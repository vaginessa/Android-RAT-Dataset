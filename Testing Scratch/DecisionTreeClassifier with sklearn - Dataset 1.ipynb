{
 "cells": [
  {
   "cell_type": "code",
   "execution_count": 1,
   "metadata": {},
   "outputs": [],
   "source": [
    "import pandas as pd\n",
    "import numpy as np\n",
    "\n",
    "from sklearn.preprocessing import LabelEncoder\n",
    "from sklearn.metrics import accuracy_score, f1_score\n",
    "from sklearn.tree import DecisionTreeClassifier"
   ]
  },
  {
   "cell_type": "code",
   "execution_count": 2,
   "metadata": {},
   "outputs": [],
   "source": [
    "def read_file(filename):\n",
    "    df = pd.read_csv(filename)\n",
    "    print(df.shape)\n",
    "    df['Label'] = df['Label'].apply(lambda x: x.strip().lower())\n",
    "    return df"
   ]
  },
  {
   "cell_type": "code",
   "execution_count": 3,
   "metadata": {},
   "outputs": [],
   "source": [
    "# training csv is 90% of 18000 dataset model 1 - transformed\n",
    "# testing csv is 10% of 18000 dataset model 1 - transformed\n",
    "\n",
    "FILE_HO_TRAIN = 'training.csv'\n",
    "FILE_HO_TEST = 'testing.csv'"
   ]
  },
  {
   "cell_type": "code",
   "execution_count": 4,
   "metadata": {},
   "outputs": [
    {
     "name": "stdout",
     "output_type": "stream",
     "text": [
      "(14400, 7)\n",
      "(3600, 7)\n"
     ]
    }
   ],
   "source": [
    "df_ho_train = read_file(FILE_HO_TRAIN)\n",
    "df_ho_test = read_file(FILE_HO_TEST)"
   ]
  },
  {
   "cell_type": "code",
   "execution_count": 5,
   "metadata": {},
   "outputs": [],
   "source": [
    "target_encoder = LabelEncoder()\n",
    "df_ho_train['Target'] = target_encoder.fit_transform(df_ho_train['Label'])\n",
    "df_ho_test['Target'] = target_encoder.transform(df_ho_test['Label'])"
   ]
  },
  {
   "cell_type": "code",
   "execution_count": 6,
   "metadata": {},
   "outputs": [],
   "source": [
    "x_ho_train = df_ho_train.drop(['Label', 'Target'], axis=1)\n",
    "y_ho_train = df_ho_train['Target']\n",
    "\n",
    "x_ho_test = df_ho_test.drop(['Label', 'Target'], axis=1)\n",
    "y_ho_test = df_ho_test['Target']"
   ]
  },
  {
   "cell_type": "code",
   "execution_count": 7,
   "metadata": {},
   "outputs": [
    {
     "name": "stdout",
     "output_type": "stream",
     "text": [
      "Akurasi pada Algoritma Decision Tree menggunakan split dengan persentase 90:10 = 99.97222222222221\n"
     ]
    }
   ],
   "source": [
    "model = DecisionTreeClassifier()\n",
    "model.fit(x_ho_train, y_ho_train)\n",
    "model.score(x_ho_train, y_ho_train)\n",
    "predicted= model.predict(x_ho_test)\n",
    "\t\n",
    "accuracy_ho = accuracy_score(predicted, y_ho_test) * 100\n",
    "print('Akurasi pada Algoritma Decision Tree menggunakan split dengan persentase 90:10 = %s' % accuracy_ho)"
   ]
  },
  {
   "cell_type": "code",
   "execution_count": null,
   "metadata": {},
   "outputs": [],
   "source": []
  },
  {
   "cell_type": "code",
   "execution_count": null,
   "metadata": {},
   "outputs": [],
   "source": []
  },
  {
   "cell_type": "code",
   "execution_count": null,
   "metadata": {},
   "outputs": [],
   "source": []
  },
  {
   "cell_type": "code",
   "execution_count": null,
   "metadata": {},
   "outputs": [],
   "source": []
  }
 ],
 "metadata": {
  "kernelspec": {
   "display_name": "Python 3",
   "language": "python",
   "name": "python3"
  },
  "language_info": {
   "codemirror_mode": {
    "name": "ipython",
    "version": 3
   },
   "file_extension": ".py",
   "mimetype": "text/x-python",
   "name": "python",
   "nbconvert_exporter": "python",
   "pygments_lexer": "ipython3",
   "version": "3.8.5"
  }
 },
 "nbformat": 4,
 "nbformat_minor": 4
}
