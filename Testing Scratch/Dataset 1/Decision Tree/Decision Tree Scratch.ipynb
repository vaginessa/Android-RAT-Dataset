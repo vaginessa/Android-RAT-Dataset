{
 "cells": [
  {
   "cell_type": "code",
   "execution_count": 1,
   "metadata": {},
   "outputs": [],
   "source": [
    "from sklearn import tree"
   ]
  },
  {
   "cell_type": "code",
   "execution_count": 2,
   "metadata": {},
   "outputs": [],
   "source": [
    "clf = tree.DecisionTreeClassifier();"
   ]
  },
  {
   "cell_type": "code",
   "execution_count": 15,
   "metadata": {},
   "outputs": [],
   "source": [
    "# Gmail 3 Facebook 3 Twitter 3 \n",
    "# RAT 3 Tester 3 Droidjack 3\n",
    "# TLSv.1.3 = 3\n",
    "# TLSv.1.2 = 2\n",
    "# tcp = 1\n",
    "# udp = 0\n",
    "\n",
    "# out 0\n",
    "# in 1\n",
    "\n",
    "# Length, Data, Protocol, Duration, Type, Source, Destination\n",
    "X = [\n",
    "    ['591','0','3','0.00153','0','54534','443'],\n",
    "    ['52','0','1','0.001147','0','54534','443'],\n",
    "    ['60','0','1','0','0','54534','443'],\n",
    "    ['60','0','1','0','0','33952','443'],\n",
    "    ['60','0','1','0.000755','1','443','33952'],\n",
    "    ['452','0','3','0.00153','0','33952','443'],\n",
    "    ['60','0','1','0.007413','1','443','56228'],\n",
    "    ['52','0','1','0.001804','0','56228','443'],\n",
    "    ['569','0','2','0.012655','0','56228','443'],\n",
    "    ['60','0','1','0','0','37451','1337'],\n",
    "    ['60','0','1','0.022053','1','1337','37451'],\n",
    "    ['52','0','1','0.006701','0','37451','1337'],\n",
    "    ['59','7','1','0.281862','1','1337','37451'],\n",
    "    ['52','0','1','0.107486','0','37451','1337'],\n",
    "    ['59','7','1','11.910185','1','1337','37451'],\n",
    "    ['40','0','1','0.041368','0','41893','1337'],\n",
    "    ['45','5','1','1.422961','0','41893','1337'],\n",
    "    ['45','5','1','0.270677','1','1337','41893']\n",
    "    \n",
    "]"
   ]
  },
  {
   "cell_type": "code",
   "execution_count": 16,
   "metadata": {},
   "outputs": [
    {
     "data": {
      "text/plain": [
       "[['591', '0', '3', '0.00153', '0', '54534', '443'],\n",
       " ['52', '0', '1', '0.001147', '0', '54534', '443'],\n",
       " ['60', '0', '1', '0', '0', '54534', '443'],\n",
       " ['60', '0', '1', '0', '0', '33952', '443'],\n",
       " ['60', '0', '1', '0.000755', '1', '443', '33952'],\n",
       " ['452', '0', '3', '0.00153', '0', '33952', '443'],\n",
       " ['60', '0', '1', '0.007413', '1', '443', '56228'],\n",
       " ['52', '0', '1', '0.001804', '0', '56228', '443'],\n",
       " ['569', '0', '2', '0.012655', '0', '56228', '443'],\n",
       " ['60', '0', '1', '0', '0', '37451', '1337'],\n",
       " ['60', '0', '1', '0.022053', '1', '1337', '37451'],\n",
       " ['52', '0', '1', '0.006701', '0', '37451', '1337'],\n",
       " ['59', '7', '1', '0.281862', '1', '1337', '37451'],\n",
       " ['52', '0', '1', '0.107486', '0', '37451', '1337'],\n",
       " ['59', '7', '1', '11.910185', '1', '1337', '37451'],\n",
       " ['40', '0', '1', '0.041368', '0', '41893', '1337'],\n",
       " ['45', '5', '1', '1.422961', '0', '41893', '1337'],\n",
       " ['45', '5', '1', '0.270677', '1', '1337', '41893']]"
      ]
     },
     "execution_count": 16,
     "metadata": {},
     "output_type": "execute_result"
    }
   ],
   "source": [
    "X"
   ]
  },
  {
   "cell_type": "code",
   "execution_count": 17,
   "metadata": {},
   "outputs": [],
   "source": [
    "Y = [\n",
    "    ['Benign'],\n",
    "    ['Benign'],\n",
    "    ['Benign'],\n",
    "    ['Benign'],\n",
    "    ['Benign'],\n",
    "    ['Benign'],\n",
    "    ['Benign'],\n",
    "    ['Benign'],\n",
    "    ['Benign'],\n",
    "    ['Trojan'],\n",
    "    ['Trojan'],\n",
    "    ['Trojan'],\n",
    "    ['Trojan'],\n",
    "    ['Trojan'],\n",
    "    ['Trojan'],\n",
    "    ['Trojan'],\n",
    "    ['Trojan'],\n",
    "    ['Trojan']\n",
    "]"
   ]
  },
  {
   "cell_type": "code",
   "execution_count": 13,
   "metadata": {},
   "outputs": [
    {
     "data": {
      "text/plain": [
       "[['Benign'],\n",
       " ['Benign'],\n",
       " ['Benign'],\n",
       " ['Benign'],\n",
       " ['Benign'],\n",
       " ['Benign'],\n",
       " ['Benign'],\n",
       " ['Benign'],\n",
       " ['Benign'],\n",
       " ['Trojan'],\n",
       " ['Trojan'],\n",
       " ['Trojan'],\n",
       " ['Trojan'],\n",
       " ['Trojan'],\n",
       " ['Trojan'],\n",
       " ['Trojan'],\n",
       " ['Trojan'],\n",
       " ['Trojan']]"
      ]
     },
     "execution_count": 13,
     "metadata": {},
     "output_type": "execute_result"
    }
   ],
   "source": [
    "Y"
   ]
  },
  {
   "cell_type": "code",
   "execution_count": 18,
   "metadata": {},
   "outputs": [],
   "source": [
    "clf = clf.fit(X,Y)"
   ]
  },
  {
   "cell_type": "code",
   "execution_count": 19,
   "metadata": {},
   "outputs": [
    {
     "name": "stdout",
     "output_type": "stream",
     "text": [
      "['Benign']\n"
     ]
    }
   ],
   "source": [
    "prediction = clf.predict([['52','0','1','0.007339','1','443','56228']])\n",
    "print(prediction)"
   ]
  },
  {
   "cell_type": "code",
   "execution_count": null,
   "metadata": {},
   "outputs": [],
   "source": []
  }
 ],
 "metadata": {
  "kernelspec": {
   "display_name": "Python 3",
   "language": "python",
   "name": "python3"
  },
  "language_info": {
   "codemirror_mode": {
    "name": "ipython",
    "version": 3
   },
   "file_extension": ".py",
   "mimetype": "text/x-python",
   "name": "python",
   "nbconvert_exporter": "python",
   "pygments_lexer": "ipython3",
   "version": "3.8.5"
  }
 },
 "nbformat": 4,
 "nbformat_minor": 4
}
