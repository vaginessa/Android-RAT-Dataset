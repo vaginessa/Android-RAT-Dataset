{
 "cells": [
  {
   "cell_type": "code",
   "execution_count": 1,
   "metadata": {},
   "outputs": [],
   "source": [
    "import pandas as pd\n",
    "\n",
    "from sklearn.naive_bayes import GaussianNB"
   ]
  },
  {
   "cell_type": "code",
   "execution_count": 2,
   "metadata": {},
   "outputs": [],
   "source": [
    "def read_file(filename):\n",
    "    df = pd.read_csv(filename)\n",
    "    print(df.shape)\n",
    "    df['label'] = df['label'].apply(lambda x: x.strip().lower())\n",
    "    return df"
   ]
  },
  {
   "cell_type": "code",
   "execution_count": 4,
   "metadata": {},
   "outputs": [
    {
     "name": "stdout",
     "output_type": "stream",
     "text": [
      "(5400, 8)\n",
      "(310, 8)\n"
     ]
    }
   ],
   "source": [
    "FILE_HO_TRAIN = 'training.csv'\n",
    "FILE_HO_TEST = 'testingv2.csv'\n",
    "\n",
    "df_ho_train = read_file(FILE_HO_TRAIN)\n",
    "df_ho_test = read_file(FILE_HO_TEST)"
   ]
  },
  {
   "cell_type": "code",
   "execution_count": 5,
   "metadata": {},
   "outputs": [],
   "source": [
    "from sklearn.preprocessing import LabelEncoder\n",
    "\n",
    "target_encoder = LabelEncoder()\n",
    "df_ho_train['Target'] = target_encoder.fit_transform(df_ho_train['label'])\n",
    "df_ho_test['Target'] = target_encoder.transform(df_ho_test['label'])\n",
    "\n",
    "x_ho_train = df_ho_train.drop(['label', 'Target'], axis=1)\n",
    "y_ho_train = df_ho_train['Target']\n",
    "\n",
    "x_ho_test = df_ho_test.drop(['label', 'Target'], axis=1)\n",
    "y_ho_test = df_ho_test['Target']"
   ]
  },
  {
   "cell_type": "code",
   "execution_count": 8,
   "metadata": {},
   "outputs": [
    {
     "data": {
      "text/plain": [
       "0.5451612903225806"
      ]
     },
     "execution_count": 8,
     "metadata": {},
     "output_type": "execute_result"
    }
   ],
   "source": [
    "# Mengaktifkan/memanggil/membuat fungsi klasifikasi Naive Bayes\n",
    "modelnb = GaussianNB()\n",
    "\n",
    "# Memasukkan data training pada fungsi klasifikasi Naive Bayes\n",
    "nbtrain = modelnb.fit(x_ho_train, y_ho_train)\n",
    "modelnb.score(x_ho_test,y_ho_test)"
   ]
  },
  {
   "cell_type": "code",
   "execution_count": 9,
   "metadata": {},
   "outputs": [
    {
     "name": "stdout",
     "output_type": "stream",
     "text": [
      "Akurasi pada Algoritma RandomForest menggunakan split dengan persentase 90:10 = 54.516129032258064\n"
     ]
    }
   ],
   "source": [
    "from sklearn.metrics import accuracy_score, f1_score\n",
    "\n",
    "predicted= modelnb.predict(x_ho_test)\n",
    "\n",
    "accuracy_ho = accuracy_score(predicted, y_ho_test) * 100\n",
    "print('Akurasi pada Algoritma RandomForest menggunakan split dengan persentase 90:10 = %s' % accuracy_ho)"
   ]
  },
  {
   "cell_type": "code",
   "execution_count": 10,
   "metadata": {},
   "outputs": [
    {
     "data": {
      "image/png": "[encoded data removed]",
      "text/plain": [
       "<Figure size 576x360 with 2 Axes>"
      ]
     },
     "metadata": {
      "needs_background": "light"
     },
     "output_type": "display_data"
    }
   ],
   "source": [
    "# Create Confusion Matrix\n",
    "\n",
    "import seaborn as sns\n",
    "import matplotlib.pyplot as plt\n",
    "\n",
    "from sklearn.metrics import confusion_matrix\n",
    "confusion_matrix(y_ho_test, predicted) \n",
    "\n",
    "f, ax = plt.subplots(figsize=(8,5))\n",
    "sns.heatmap(confusion_matrix(y_ho_test, predicted), annot=True, fmt=\".0f\", ax=ax)\n",
    "plt.xlabel(\"Predicted Class\")\n",
    "plt.ylabel(\"Actual Class\")\n",
    "plt.show()"
   ]
  },
  {
   "cell_type": "code",
   "execution_count": 11,
   "metadata": {},
   "outputs": [
    {
     "name": "stdout",
     "output_type": "stream",
     "text": [
      "              precision    recall  f1-score   support\n",
      "\n",
      "           0       1.00      0.53      0.69       300\n",
      "           1       0.07      1.00      0.12        10\n",
      "\n",
      "    accuracy                           0.55       310\n",
      "   macro avg       0.53      0.77      0.41       310\n",
      "weighted avg       0.97      0.55      0.67       310\n",
      "\n"
     ]
    }
   ],
   "source": [
    "# Performance Matrix Report - Precision Recall f1score\n",
    "\n",
    "from sklearn.metrics import classification_report\n",
    "print (classification_report(y_ho_test, predicted))"
   ]
  },
  {
   "cell_type": "code",
   "execution_count": null,
   "metadata": {},
   "outputs": [],
   "source": []
  }
 ],
 "metadata": {
  "kernelspec": {
   "display_name": "Python 3",
   "language": "python",
   "name": "python3"
  },
  "language_info": {
   "codemirror_mode": {
    "name": "ipython",
    "version": 3
   },
   "file_extension": ".py",
   "mimetype": "text/x-python",
   "name": "python",
   "nbconvert_exporter": "python",
   "pygments_lexer": "ipython3",
   "version": "3.8.5"
  }
 },
 "nbformat": 4,
 "nbformat_minor": 4
}
