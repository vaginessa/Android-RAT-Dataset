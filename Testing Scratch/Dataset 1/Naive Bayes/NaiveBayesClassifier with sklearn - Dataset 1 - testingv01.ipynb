{
 "cells": [
  {
   "cell_type": "code",
   "execution_count": 1,
   "metadata": {},
   "outputs": [],
   "source": [
    "import pandas as pd\n",
    "import numpy as np\n",
    "\n",
    "from sklearn.naive_bayes import GaussianNB"
   ]
  },
  {
   "cell_type": "code",
   "execution_count": 2,
   "metadata": {},
   "outputs": [],
   "source": [
    "def read_file(filename):\n",
    "    df = pd.read_csv(filename)\n",
    "    print(df.shape)\n",
    "    df['Label'] = df['Label'].apply(lambda x: x.strip().lower())\n",
    "    return df"
   ]
  },
  {
   "cell_type": "code",
   "execution_count": 3,
   "metadata": {},
   "outputs": [
    {
     "name": "stdout",
     "output_type": "stream",
     "text": [
      "(14400, 7)\n",
      "(990, 7)\n"
     ]
    }
   ],
   "source": [
    "FILE_HO_TRAIN = 'training.csv'\n",
    "FILE_HO_TEST = 'testingv01.csv'\n",
    "\n",
    "df_ho_train = read_file(FILE_HO_TRAIN)\n",
    "df_ho_test = read_file(FILE_HO_TEST)"
   ]
  },
  {
   "cell_type": "code",
   "execution_count": 4,
   "metadata": {},
   "outputs": [],
   "source": [
    "from sklearn.preprocessing import LabelEncoder\n",
    "\n",
    "target_encoder = LabelEncoder()\n",
    "df_ho_train['Target'] = target_encoder.fit_transform(df_ho_train['Label'])\n",
    "df_ho_test['Target'] = target_encoder.transform(df_ho_test['Label'])\n",
    "\n",
    "x_ho_train = df_ho_train.drop(['Label', 'Target'], axis=1)\n",
    "y_ho_train = df_ho_train['Target']\n",
    "\n",
    "x_ho_test = df_ho_test.drop(['Label', 'Target'], axis=1)\n",
    "y_ho_test = df_ho_test['Target']"
   ]
  },
  {
   "cell_type": "code",
   "execution_count": 5,
   "metadata": {},
   "outputs": [
    {
     "data": {
      "text/plain": [
       "0.11818181818181818"
      ]
     },
     "execution_count": 5,
     "metadata": {},
     "output_type": "execute_result"
    }
   ],
   "source": [
    "# Mengaktifkan/memanggil/membuat fungsi klasifikasi Naive Bayes\n",
    "modelnb = GaussianNB()\n",
    "\n",
    "# Memasukkan data training pada fungsi klasifikasi Naive Bayes\n",
    "nbtrain = modelnb.fit(x_ho_train, y_ho_train)\n",
    "modelnb.score(x_ho_test,y_ho_test)"
   ]
  },
  {
   "cell_type": "code",
   "execution_count": 6,
   "metadata": {},
   "outputs": [
    {
     "name": "stdout",
     "output_type": "stream",
     "text": [
      "Akurasi pada Algoritma RandomForest menggunakan split dengan persentase 90:10 = 11.818181818181818\n"
     ]
    }
   ],
   "source": [
    "from sklearn.metrics import accuracy_score, f1_score\n",
    "\n",
    "predicted= modelnb.predict(x_ho_test)\n",
    "\n",
    "accuracy_ho = accuracy_score(predicted, y_ho_test) * 100\n",
    "print('Akurasi pada Algoritma RandomForest menggunakan split dengan persentase 90:10 = %s' % accuracy_ho)"
   ]
  },
  {
   "cell_type": "code",
   "execution_count": 7,
   "metadata": {},
   "outputs": [
    {
     "data": {
      "image/png": "[encoded data removed]",
      "text/plain": [
       "<Figure size 576x360 with 2 Axes>"
      ]
     },
     "metadata": {
      "needs_background": "light"
     },
     "output_type": "display_data"
    }
   ],
   "source": [
    "# Create Confusion Matrix\n",
    "\n",
    "import seaborn as sns\n",
    "import matplotlib.pyplot as plt\n",
    "\n",
    "from sklearn.metrics import confusion_matrix\n",
    "confusion_matrix(y_ho_test, predicted) \n",
    "\n",
    "f, ax = plt.subplots(figsize=(8,5))\n",
    "sns.heatmap(confusion_matrix(y_ho_test, predicted), annot=True, fmt=\".0f\", ax=ax)\n",
    "plt.xlabel(\"Predicted Class\")\n",
    "plt.ylabel(\"Actual Class\")\n",
    "plt.show()"
   ]
  },
  {
   "cell_type": "code",
   "execution_count": 8,
   "metadata": {},
   "outputs": [
    {
     "name": "stdout",
     "output_type": "stream",
     "text": [
      "              precision    recall  f1-score   support\n",
      "\n",
      "           0       0.91      0.03      0.06       900\n",
      "           1       0.09      0.97      0.17        90\n",
      "\n",
      "    accuracy                           0.12       990\n",
      "   macro avg       0.50      0.50      0.12       990\n",
      "weighted avg       0.83      0.12      0.07       990\n",
      "\n"
     ]
    }
   ],
   "source": [
    "# Performance Matrix Report - Precision Recall f1score\n",
    "\n",
    "from sklearn.metrics import classification_report\n",
    "print (classification_report(y_ho_test, predicted))"
   ]
  },
  {
   "cell_type": "code",
   "execution_count": null,
   "metadata": {},
   "outputs": [],
   "source": []
  }
 ],
 "metadata": {
  "kernelspec": {
   "display_name": "Python 3",
   "language": "python",
   "name": "python3"
  },
  "language_info": {
   "codemirror_mode": {
    "name": "ipython",
    "version": 3
   },
   "file_extension": ".py",
   "mimetype": "text/x-python",
   "name": "python",
   "nbconvert_exporter": "python",
   "pygments_lexer": "ipython3",
   "version": "3.8.5"
  }
 },
 "nbformat": 4,
 "nbformat_minor": 4
}
